{
 "cells": [
  {
   "cell_type": "code",
   "execution_count": 2,
   "metadata": {},
   "outputs": [],
   "source": [
    "import polars as pl"
   ]
  },
  {
   "cell_type": "code",
   "execution_count": 3,
   "metadata": {},
   "outputs": [
    {
     "data": {
      "text/html": [
       "<div><style>\n",
       ".dataframe > thead > tr > th,\n",
       ".dataframe > tbody > tr > td {\n",
       "  text-align: right;\n",
       "}\n",
       "</style>\n",
       "<small>shape: (4, 5)</small><table border=\"1\" class=\"dataframe\"><thead><tr><th>task_id</th><th>workdir</th><th>attempt</th><th>realtime</th><th>status</th></tr><tr><td>i64</td><td>str</td><td>i64</td><td>str</td><td>str</td></tr></thead><tbody><tr><td>1</td><td>&quot;gs://singlem-s…</td><td>1</td><td>&quot;27m&quot;</td><td>&quot;COMPLETED&quot;</td></tr><tr><td>2</td><td>&quot;gs://singlem-s…</td><td>1</td><td>&quot;3h 34m 37s&quot;</td><td>&quot;COMPLETED&quot;</td></tr><tr><td>3</td><td>&quot;gs://singlem-s…</td><td>1</td><td>&quot;55m 30s&quot;</td><td>&quot;COMPLETED&quot;</td></tr><tr><td>4</td><td>&quot;gs://singlem-s…</td><td>1</td><td>&quot;20m 9s&quot;</td><td>&quot;COMPLETED&quot;</td></tr></tbody></table></div>"
      ],
      "text/plain": [
       "shape: (4, 5)\n",
       "┌─────────┬───────────────────────────────────┬─────────┬────────────┬───────────┐\n",
       "│ task_id ┆ workdir                           ┆ attempt ┆ realtime   ┆ status    │\n",
       "│ ---     ┆ ---                               ┆ ---     ┆ ---        ┆ ---       │\n",
       "│ i64     ┆ str                               ┆ i64     ┆ str        ┆ str       │\n",
       "╞═════════╪═══════════════════════════════════╪═════════╪════════════╪═══════════╡\n",
       "│ 1       ┆ gs://singlem-sra-nextflow/pipeli… ┆ 1       ┆ 27m        ┆ COMPLETED │\n",
       "│ 2       ┆ gs://singlem-sra-nextflow/pipeli… ┆ 1       ┆ 3h 34m 37s ┆ COMPLETED │\n",
       "│ 3       ┆ gs://singlem-sra-nextflow/pipeli… ┆ 1       ┆ 55m 30s    ┆ COMPLETED │\n",
       "│ 4       ┆ gs://singlem-sra-nextflow/pipeli… ┆ 1       ┆ 20m 9s     ┆ COMPLETED │\n",
       "└─────────┴───────────────────────────────────┴─────────┴────────────┴───────────┘"
      ]
     },
     "execution_count": 3,
     "metadata": {},
     "output_type": "execute_result"
    }
   ],
   "source": [
    "# nextflow log thirsty_pasteur -f task_id,workdir,attempt,realtime,status >run_stats/thirsty_pasteur.csv\n",
    "\n",
    "# df = pl.read_csv('run_stats/compassionate_solvay.csv', separator='\\t', has_header=False)\n",
    "df = pl.read_csv('run_stats/thirsty_pasteur.csv', separator='\\t', has_header=False) # 100 runs, t2d\n",
    "\n",
    "df.columns = 'task_id,workdir,attempt,realtime,status'.split(',')\n",
    "df = df.sort('task_id')\n",
    "df[:4]"
   ]
  },
  {
   "cell_type": "code",
   "execution_count": 4,
   "metadata": {},
   "outputs": [
    {
     "data": {
      "text/html": [
       "<div><style>\n",
       ".dataframe > thead > tr > th,\n",
       ".dataframe > tbody > tr > td {\n",
       "  text-align: right;\n",
       "}\n",
       "</style>\n",
       "<small>shape: (4, 6)</small><table border=\"1\" class=\"dataframe\"><thead><tr><th>task_id</th><th>workdir</th><th>attempt</th><th>realtime</th><th>status</th><th>realtime_s</th></tr><tr><td>i64</td><td>str</td><td>i64</td><td>str</td><td>str</td><td>i32</td></tr></thead><tbody><tr><td>1</td><td>&quot;gs://singlem-s…</td><td>1</td><td>&quot;27m&quot;</td><td>&quot;COMPLETED&quot;</td><td>1620</td></tr><tr><td>2</td><td>&quot;gs://singlem-s…</td><td>1</td><td>&quot;3h 34m 37s&quot;</td><td>&quot;COMPLETED&quot;</td><td>null</td></tr><tr><td>3</td><td>&quot;gs://singlem-s…</td><td>1</td><td>&quot;55m 30s&quot;</td><td>&quot;COMPLETED&quot;</td><td>null</td></tr><tr><td>4</td><td>&quot;gs://singlem-s…</td><td>1</td><td>&quot;20m 9s&quot;</td><td>&quot;COMPLETED&quot;</td><td>null</td></tr></tbody></table></div>"
      ],
      "text/plain": [
       "shape: (4, 6)\n",
       "┌─────────┬───────────────────────────────────┬─────────┬────────────┬───────────┬────────────┐\n",
       "│ task_id ┆ workdir                           ┆ attempt ┆ realtime   ┆ status    ┆ realtime_s │\n",
       "│ ---     ┆ ---                               ┆ ---     ┆ ---        ┆ ---       ┆ ---        │\n",
       "│ i64     ┆ str                               ┆ i64     ┆ str        ┆ str       ┆ i32        │\n",
       "╞═════════╪═══════════════════════════════════╪═════════╪════════════╪═══════════╪════════════╡\n",
       "│ 1       ┆ gs://singlem-sra-nextflow/pipeli… ┆ 1       ┆ 27m        ┆ COMPLETED ┆ 1620       │\n",
       "│ 2       ┆ gs://singlem-sra-nextflow/pipeli… ┆ 1       ┆ 3h 34m 37s ┆ COMPLETED ┆ null       │\n",
       "│ 3       ┆ gs://singlem-sra-nextflow/pipeli… ┆ 1       ┆ 55m 30s    ┆ COMPLETED ┆ null       │\n",
       "│ 4       ┆ gs://singlem-sra-nextflow/pipeli… ┆ 1       ┆ 20m 9s     ┆ COMPLETED ┆ null       │\n",
       "└─────────┴───────────────────────────────────┴─────────┴────────────┴───────────┴────────────┘"
      ]
     },
     "execution_count": 4,
     "metadata": {},
     "output_type": "execute_result"
    }
   ],
   "source": [
    "# regex to convert (which is e.g. 1h 33m 53s) to seconds\n",
    "import re\n",
    "def to_seconds(s):\n",
    "    if matches := re.match(r'(\\d+)h (\\d+)m ([\\d\\.]+)s', s):\n",
    "        (h, m, s) = matches.groups()\n",
    "        return int(h) * 3600 + int(m) * 60 + float(s)\n",
    "    elif matches := re.match(r'(\\d+)m ([\\d\\.]+)s', s):\n",
    "        (m, s) = matches.groups()\n",
    "        return int(m) * 60 + float(s)\n",
    "    elif matches := re.match(r'([\\d\\.]+)s', s):\n",
    "        (s,) = matches.groups()\n",
    "        return float(s)\n",
    "    elif matches := re.match(r'(\\d+)h', s):\n",
    "        (h,) = matches.groups()\n",
    "        return int(h) * 3600\n",
    "    elif matches := re.match(r'(\\d+)m', s):\n",
    "        (m,) = matches.groups()\n",
    "        return int(m) * 60\n",
    "    elif matches := re.match(r'(\\d+)h (\\d+)m', s):\n",
    "        (h, m) = matches.groups()\n",
    "        return int(h) * 3600 + int(m) * 60\n",
    "    elif matches := re.match(r'-', s):\n",
    "        return 0\n",
    "    else:\n",
    "        raise ValueError(f'Could not parse {s}')\n",
    "df = df.with_columns(pl.col('realtime').apply(to_seconds).cast(pl.Int32).alias('realtime_s'))\n",
    "df[:4]"
   ]
  },
  {
   "cell_type": "code",
   "execution_count": 5,
   "metadata": {},
   "outputs": [
    {
     "name": "stdout",
     "output_type": "stream",
     "text": [
      "total cost 1881.4940253833777\n",
      "cost of the test run 0.3420898227969778\n"
     ]
    }
   ],
   "source": [
    "# A rough total cost is $0.010051 per hour for the VM. So take the total time and multiply by that. Plus the disk cost, which is 30GB * $0.04 per month\n",
    "# With t2d-standard-1, spot price is $0.007068\n",
    "spot_cost = 0.007068\n",
    "cost_estimate1 = df['realtime_s'].sum() * (spot_cost / 3600 + 30 * 0.04 / 30 / 24 / 3600)\n",
    "cost_estimate1\n",
    "# Then there is ~550,000 runs, but we only processed 100, so multiply by that.\n",
    "cost_estimate2 = cost_estimate1 * 550000 / 100\n",
    "cost_estimate2\n",
    "# But those prices are USD, so converting to AUD\n",
    "cost_estimate3 = cost_estimate2 * 1.495784\n",
    "print('total cost', cost_estimate3)\n",
    "print('cost of the test run', cost_estimate1 *  1.495784)"
   ]
  },
  {
   "cell_type": "code",
   "execution_count": 6,
   "metadata": {},
   "outputs": [
    {
     "ename": "FileNotFoundError",
     "evalue": "No such file or directory: 100_accessions2.txt",
     "output_type": "error",
     "traceback": [
      "\u001b[0;31m---------------------------------------------------------------------------\u001b[0m",
      "\u001b[0;31mFileNotFoundError\u001b[0m                         Traceback (most recent call last)",
      "Cell \u001b[0;32mIn[6], line 1\u001b[0m\n\u001b[0;32m----> 1\u001b[0m run_ids \u001b[38;5;241m=\u001b[39m \u001b[43mpl\u001b[49m\u001b[38;5;241;43m.\u001b[39;49m\u001b[43mread_csv\u001b[49m\u001b[43m(\u001b[49m\u001b[38;5;124;43m'\u001b[39;49m\u001b[38;5;124;43m100_accessions2.txt\u001b[39;49m\u001b[38;5;124;43m'\u001b[39;49m\u001b[43m,\u001b[49m\u001b[43m \u001b[49m\u001b[43mhas_header\u001b[49m\u001b[38;5;241;43m=\u001b[39;49m\u001b[38;5;28;43;01mFalse\u001b[39;49;00m\u001b[43m)\u001b[49m\n\u001b[1;32m      2\u001b[0m run_ids\u001b[38;5;241m.\u001b[39mcolumns \u001b[38;5;241m=\u001b[39m [\u001b[38;5;124m'\u001b[39m\u001b[38;5;124macc\u001b[39m\u001b[38;5;124m'\u001b[39m]\n\u001b[1;32m      4\u001b[0m df \u001b[38;5;241m=\u001b[39m pl\u001b[38;5;241m.\u001b[39mread_csv(\u001b[38;5;124m'\u001b[39m\u001b[38;5;124m~/git/sandpiper/sra_metadata/shotgun_sra_20240112.some_columns.csv.gz\u001b[39m\u001b[38;5;124m'\u001b[39m, has_header\u001b[38;5;241m=\u001b[39m\u001b[38;5;28;01mFalse\u001b[39;00m)\n",
      "File \u001b[0;32m~/e/mybase/lib/python3.11/site-packages/polars/io/csv/functions.py:364\u001b[0m, in \u001b[0;36mread_csv\u001b[0;34m(source, has_header, columns, new_columns, separator, comment_char, quote_char, skip_rows, dtypes, null_values, missing_utf8_is_empty_string, ignore_errors, try_parse_dates, n_threads, infer_schema_length, batch_size, n_rows, encoding, low_memory, rechunk, use_pyarrow, storage_options, skip_rows_after_header, row_count_name, row_count_offset, sample_size, eol_char, raise_if_empty)\u001b[0m\n\u001b[1;32m    352\u001b[0m         dtypes \u001b[38;5;241m=\u001b[39m {\n\u001b[1;32m    353\u001b[0m             new_to_current\u001b[38;5;241m.\u001b[39mget(column_name, column_name): column_dtype\n\u001b[1;32m    354\u001b[0m             \u001b[38;5;28;01mfor\u001b[39;00m column_name, column_dtype \u001b[38;5;129;01min\u001b[39;00m dtypes\u001b[38;5;241m.\u001b[39mitems()\n\u001b[1;32m    355\u001b[0m         }\n\u001b[1;32m    357\u001b[0m \u001b[38;5;28;01mwith\u001b[39;00m _prepare_file_arg(\n\u001b[1;32m    358\u001b[0m     source,\n\u001b[1;32m    359\u001b[0m     encoding\u001b[38;5;241m=\u001b[39mencoding,\n\u001b[0;32m   (...)\u001b[0m\n\u001b[1;32m    362\u001b[0m     \u001b[38;5;241m*\u001b[39m\u001b[38;5;241m*\u001b[39mstorage_options,\n\u001b[1;32m    363\u001b[0m ) \u001b[38;5;28;01mas\u001b[39;00m data:\n\u001b[0;32m--> 364\u001b[0m     df \u001b[38;5;241m=\u001b[39m \u001b[43mpl\u001b[49m\u001b[38;5;241;43m.\u001b[39;49m\u001b[43mDataFrame\u001b[49m\u001b[38;5;241;43m.\u001b[39;49m\u001b[43m_read_csv\u001b[49m\u001b[43m(\u001b[49m\n\u001b[1;32m    365\u001b[0m \u001b[43m        \u001b[49m\u001b[43mdata\u001b[49m\u001b[43m,\u001b[49m\n\u001b[1;32m    366\u001b[0m \u001b[43m        \u001b[49m\u001b[43mhas_header\u001b[49m\u001b[38;5;241;43m=\u001b[39;49m\u001b[43mhas_header\u001b[49m\u001b[43m,\u001b[49m\n\u001b[1;32m    367\u001b[0m \u001b[43m        \u001b[49m\u001b[43mcolumns\u001b[49m\u001b[38;5;241;43m=\u001b[39;49m\u001b[43mcolumns\u001b[49m\u001b[43m \u001b[49m\u001b[38;5;28;43;01mif\u001b[39;49;00m\u001b[43m \u001b[49m\u001b[43mcolumns\u001b[49m\u001b[43m \u001b[49m\u001b[38;5;28;43;01melse\u001b[39;49;00m\u001b[43m \u001b[49m\u001b[43mprojection\u001b[49m\u001b[43m,\u001b[49m\n\u001b[1;32m    368\u001b[0m \u001b[43m        \u001b[49m\u001b[43mseparator\u001b[49m\u001b[38;5;241;43m=\u001b[39;49m\u001b[43mseparator\u001b[49m\u001b[43m,\u001b[49m\n\u001b[1;32m    369\u001b[0m \u001b[43m        \u001b[49m\u001b[43mcomment_char\u001b[49m\u001b[38;5;241;43m=\u001b[39;49m\u001b[43mcomment_char\u001b[49m\u001b[43m,\u001b[49m\n\u001b[1;32m    370\u001b[0m \u001b[43m        \u001b[49m\u001b[43mquote_char\u001b[49m\u001b[38;5;241;43m=\u001b[39;49m\u001b[43mquote_char\u001b[49m\u001b[43m,\u001b[49m\n\u001b[1;32m    371\u001b[0m \u001b[43m        \u001b[49m\u001b[43mskip_rows\u001b[49m\u001b[38;5;241;43m=\u001b[39;49m\u001b[43mskip_rows\u001b[49m\u001b[43m,\u001b[49m\n\u001b[1;32m    372\u001b[0m \u001b[43m        \u001b[49m\u001b[43mdtypes\u001b[49m\u001b[38;5;241;43m=\u001b[39;49m\u001b[43mdtypes\u001b[49m\u001b[43m,\u001b[49m\n\u001b[1;32m    373\u001b[0m \u001b[43m        \u001b[49m\u001b[43mnull_values\u001b[49m\u001b[38;5;241;43m=\u001b[39;49m\u001b[43mnull_values\u001b[49m\u001b[43m,\u001b[49m\n\u001b[1;32m    374\u001b[0m \u001b[43m        \u001b[49m\u001b[43mmissing_utf8_is_empty_string\u001b[49m\u001b[38;5;241;43m=\u001b[39;49m\u001b[43mmissing_utf8_is_empty_string\u001b[49m\u001b[43m,\u001b[49m\n\u001b[1;32m    375\u001b[0m \u001b[43m        \u001b[49m\u001b[43mignore_errors\u001b[49m\u001b[38;5;241;43m=\u001b[39;49m\u001b[43mignore_errors\u001b[49m\u001b[43m,\u001b[49m\n\u001b[1;32m    376\u001b[0m \u001b[43m        \u001b[49m\u001b[43mtry_parse_dates\u001b[49m\u001b[38;5;241;43m=\u001b[39;49m\u001b[43mtry_parse_dates\u001b[49m\u001b[43m,\u001b[49m\n\u001b[1;32m    377\u001b[0m \u001b[43m        \u001b[49m\u001b[43mn_threads\u001b[49m\u001b[38;5;241;43m=\u001b[39;49m\u001b[43mn_threads\u001b[49m\u001b[43m,\u001b[49m\n\u001b[1;32m    378\u001b[0m \u001b[43m        \u001b[49m\u001b[43minfer_schema_length\u001b[49m\u001b[38;5;241;43m=\u001b[39;49m\u001b[43minfer_schema_length\u001b[49m\u001b[43m,\u001b[49m\n\u001b[1;32m    379\u001b[0m \u001b[43m        \u001b[49m\u001b[43mbatch_size\u001b[49m\u001b[38;5;241;43m=\u001b[39;49m\u001b[43mbatch_size\u001b[49m\u001b[43m,\u001b[49m\n\u001b[1;32m    380\u001b[0m \u001b[43m        \u001b[49m\u001b[43mn_rows\u001b[49m\u001b[38;5;241;43m=\u001b[39;49m\u001b[43mn_rows\u001b[49m\u001b[43m,\u001b[49m\n\u001b[1;32m    381\u001b[0m \u001b[43m        \u001b[49m\u001b[43mencoding\u001b[49m\u001b[38;5;241;43m=\u001b[39;49m\u001b[43mencoding\u001b[49m\u001b[43m \u001b[49m\u001b[38;5;28;43;01mif\u001b[39;49;00m\u001b[43m \u001b[49m\u001b[43mencoding\u001b[49m\u001b[43m \u001b[49m\u001b[38;5;241;43m==\u001b[39;49m\u001b[43m \u001b[49m\u001b[38;5;124;43m\"\u001b[39;49m\u001b[38;5;124;43mutf8-lossy\u001b[39;49m\u001b[38;5;124;43m\"\u001b[39;49m\u001b[43m \u001b[49m\u001b[38;5;28;43;01melse\u001b[39;49;00m\u001b[43m \u001b[49m\u001b[38;5;124;43m\"\u001b[39;49m\u001b[38;5;124;43mutf8\u001b[39;49m\u001b[38;5;124;43m\"\u001b[39;49m\u001b[43m,\u001b[49m\n\u001b[1;32m    382\u001b[0m \u001b[43m        \u001b[49m\u001b[43mlow_memory\u001b[49m\u001b[38;5;241;43m=\u001b[39;49m\u001b[43mlow_memory\u001b[49m\u001b[43m,\u001b[49m\n\u001b[1;32m    383\u001b[0m \u001b[43m        \u001b[49m\u001b[43mrechunk\u001b[49m\u001b[38;5;241;43m=\u001b[39;49m\u001b[43mrechunk\u001b[49m\u001b[43m,\u001b[49m\n\u001b[1;32m    384\u001b[0m \u001b[43m        \u001b[49m\u001b[43mskip_rows_after_header\u001b[49m\u001b[38;5;241;43m=\u001b[39;49m\u001b[43mskip_rows_after_header\u001b[49m\u001b[43m,\u001b[49m\n\u001b[1;32m    385\u001b[0m \u001b[43m        \u001b[49m\u001b[43mrow_count_name\u001b[49m\u001b[38;5;241;43m=\u001b[39;49m\u001b[43mrow_count_name\u001b[49m\u001b[43m,\u001b[49m\n\u001b[1;32m    386\u001b[0m \u001b[43m        \u001b[49m\u001b[43mrow_count_offset\u001b[49m\u001b[38;5;241;43m=\u001b[39;49m\u001b[43mrow_count_offset\u001b[49m\u001b[43m,\u001b[49m\n\u001b[1;32m    387\u001b[0m \u001b[43m        \u001b[49m\u001b[43msample_size\u001b[49m\u001b[38;5;241;43m=\u001b[39;49m\u001b[43msample_size\u001b[49m\u001b[43m,\u001b[49m\n\u001b[1;32m    388\u001b[0m \u001b[43m        \u001b[49m\u001b[43meol_char\u001b[49m\u001b[38;5;241;43m=\u001b[39;49m\u001b[43meol_char\u001b[49m\u001b[43m,\u001b[49m\n\u001b[1;32m    389\u001b[0m \u001b[43m        \u001b[49m\u001b[43mraise_if_empty\u001b[49m\u001b[38;5;241;43m=\u001b[39;49m\u001b[43mraise_if_empty\u001b[49m\u001b[43m,\u001b[49m\n\u001b[1;32m    390\u001b[0m \u001b[43m    \u001b[49m\u001b[43m)\u001b[49m\n\u001b[1;32m    392\u001b[0m \u001b[38;5;28;01mif\u001b[39;00m new_columns:\n\u001b[1;32m    393\u001b[0m     \u001b[38;5;28;01mreturn\u001b[39;00m _update_columns(df, new_columns)\n",
      "File \u001b[0;32m~/e/mybase/lib/python3.11/site-packages/polars/dataframe/frame.py:763\u001b[0m, in \u001b[0;36mDataFrame._read_csv\u001b[0;34m(cls, source, has_header, columns, separator, comment_char, quote_char, skip_rows, dtypes, null_values, missing_utf8_is_empty_string, ignore_errors, try_parse_dates, n_threads, infer_schema_length, batch_size, n_rows, encoding, low_memory, rechunk, skip_rows_after_header, row_count_name, row_count_offset, sample_size, eol_char, raise_if_empty)\u001b[0m\n\u001b[1;32m    756\u001b[0m         \u001b[38;5;28;01mraise\u001b[39;00m \u001b[38;5;167;01mValueError\u001b[39;00m(\n\u001b[1;32m    757\u001b[0m             \u001b[38;5;124m\"\u001b[39m\u001b[38;5;124mcannot use glob patterns and integer based projection as `columns`\u001b[39m\u001b[38;5;124m\"\u001b[39m\n\u001b[1;32m    758\u001b[0m             \u001b[38;5;124m\"\u001b[39m\u001b[38;5;124m argument; Use columns: List[str]\u001b[39m\u001b[38;5;124m\"\u001b[39m\n\u001b[1;32m    759\u001b[0m         )\n\u001b[1;32m    761\u001b[0m projection, columns \u001b[38;5;241m=\u001b[39m handle_projection_columns(columns)\n\u001b[0;32m--> 763\u001b[0m \u001b[38;5;28mself\u001b[39m\u001b[38;5;241m.\u001b[39m_df \u001b[38;5;241m=\u001b[39m \u001b[43mPyDataFrame\u001b[49m\u001b[38;5;241;43m.\u001b[39;49m\u001b[43mread_csv\u001b[49m\u001b[43m(\u001b[49m\n\u001b[1;32m    764\u001b[0m \u001b[43m    \u001b[49m\u001b[43msource\u001b[49m\u001b[43m,\u001b[49m\n\u001b[1;32m    765\u001b[0m \u001b[43m    \u001b[49m\u001b[43minfer_schema_length\u001b[49m\u001b[43m,\u001b[49m\n\u001b[1;32m    766\u001b[0m \u001b[43m    \u001b[49m\u001b[43mbatch_size\u001b[49m\u001b[43m,\u001b[49m\n\u001b[1;32m    767\u001b[0m \u001b[43m    \u001b[49m\u001b[43mhas_header\u001b[49m\u001b[43m,\u001b[49m\n\u001b[1;32m    768\u001b[0m \u001b[43m    \u001b[49m\u001b[43mignore_errors\u001b[49m\u001b[43m,\u001b[49m\n\u001b[1;32m    769\u001b[0m \u001b[43m    \u001b[49m\u001b[43mn_rows\u001b[49m\u001b[43m,\u001b[49m\n\u001b[1;32m    770\u001b[0m \u001b[43m    \u001b[49m\u001b[43mskip_rows\u001b[49m\u001b[43m,\u001b[49m\n\u001b[1;32m    771\u001b[0m \u001b[43m    \u001b[49m\u001b[43mprojection\u001b[49m\u001b[43m,\u001b[49m\n\u001b[1;32m    772\u001b[0m \u001b[43m    \u001b[49m\u001b[43mseparator\u001b[49m\u001b[43m,\u001b[49m\n\u001b[1;32m    773\u001b[0m \u001b[43m    \u001b[49m\u001b[43mrechunk\u001b[49m\u001b[43m,\u001b[49m\n\u001b[1;32m    774\u001b[0m \u001b[43m    \u001b[49m\u001b[43mcolumns\u001b[49m\u001b[43m,\u001b[49m\n\u001b[1;32m    775\u001b[0m \u001b[43m    \u001b[49m\u001b[43mencoding\u001b[49m\u001b[43m,\u001b[49m\n\u001b[1;32m    776\u001b[0m \u001b[43m    \u001b[49m\u001b[43mn_threads\u001b[49m\u001b[43m,\u001b[49m\n\u001b[1;32m    777\u001b[0m \u001b[43m    \u001b[49m\u001b[43mpath\u001b[49m\u001b[43m,\u001b[49m\n\u001b[1;32m    778\u001b[0m \u001b[43m    \u001b[49m\u001b[43mdtype_list\u001b[49m\u001b[43m,\u001b[49m\n\u001b[1;32m    779\u001b[0m \u001b[43m    \u001b[49m\u001b[43mdtype_slice\u001b[49m\u001b[43m,\u001b[49m\n\u001b[1;32m    780\u001b[0m \u001b[43m    \u001b[49m\u001b[43mlow_memory\u001b[49m\u001b[43m,\u001b[49m\n\u001b[1;32m    781\u001b[0m \u001b[43m    \u001b[49m\u001b[43mcomment_char\u001b[49m\u001b[43m,\u001b[49m\n\u001b[1;32m    782\u001b[0m \u001b[43m    \u001b[49m\u001b[43mquote_char\u001b[49m\u001b[43m,\u001b[49m\n\u001b[1;32m    783\u001b[0m \u001b[43m    \u001b[49m\u001b[43mprocessed_null_values\u001b[49m\u001b[43m,\u001b[49m\n\u001b[1;32m    784\u001b[0m \u001b[43m    \u001b[49m\u001b[43mmissing_utf8_is_empty_string\u001b[49m\u001b[43m,\u001b[49m\n\u001b[1;32m    785\u001b[0m \u001b[43m    \u001b[49m\u001b[43mtry_parse_dates\u001b[49m\u001b[43m,\u001b[49m\n\u001b[1;32m    786\u001b[0m \u001b[43m    \u001b[49m\u001b[43mskip_rows_after_header\u001b[49m\u001b[43m,\u001b[49m\n\u001b[1;32m    787\u001b[0m \u001b[43m    \u001b[49m\u001b[43m_prepare_row_count_args\u001b[49m\u001b[43m(\u001b[49m\u001b[43mrow_count_name\u001b[49m\u001b[43m,\u001b[49m\u001b[43m \u001b[49m\u001b[43mrow_count_offset\u001b[49m\u001b[43m)\u001b[49m\u001b[43m,\u001b[49m\n\u001b[1;32m    788\u001b[0m \u001b[43m    \u001b[49m\u001b[43msample_size\u001b[49m\u001b[38;5;241;43m=\u001b[39;49m\u001b[43msample_size\u001b[49m\u001b[43m,\u001b[49m\n\u001b[1;32m    789\u001b[0m \u001b[43m    \u001b[49m\u001b[43meol_char\u001b[49m\u001b[38;5;241;43m=\u001b[39;49m\u001b[43meol_char\u001b[49m\u001b[43m,\u001b[49m\n\u001b[1;32m    790\u001b[0m \u001b[43m    \u001b[49m\u001b[43mraise_if_empty\u001b[49m\u001b[38;5;241;43m=\u001b[39;49m\u001b[43mraise_if_empty\u001b[49m\u001b[43m,\u001b[49m\n\u001b[1;32m    791\u001b[0m \u001b[43m\u001b[49m\u001b[43m)\u001b[49m\n\u001b[1;32m    792\u001b[0m \u001b[38;5;28;01mreturn\u001b[39;00m \u001b[38;5;28mself\u001b[39m\n",
      "\u001b[0;31mFileNotFoundError\u001b[0m: No such file or directory: 100_accessions2.txt"
     ]
    }
   ],
   "source": [
    "run_ids = pl.read_csv('100_accessions2.txt', has_header=False)\n",
    "run_ids.columns = ['acc']\n",
    "\n",
    "df = pl.read_csv('~/git/sandpiper/sra_metadata/shotgun_sra_20240112.some_columns.csv.gz', has_header=False)\n",
    "df.columns = ['acc','releasedate','mbases','organism','mbytes','avgspotlen']\n",
    "df[:4]\n",
    "\n",
    "m = run_ids.join(df, on='acc', how='inner')\n",
    "total_processed = sum(m['mbases'])\n",
    "\n",
    "total = sum(df['mbases'])\n",
    "total_processed / total * 100"
   ]
  }
 ],
 "metadata": {
  "kernelspec": {
   "display_name": "mybase",
   "language": "python",
   "name": "python3"
  },
  "language_info": {
   "codemirror_mode": {
    "name": "ipython",
    "version": 3
   },
   "file_extension": ".py",
   "mimetype": "text/x-python",
   "name": "python",
   "nbconvert_exporter": "python",
   "pygments_lexer": "ipython3",
   "version": "3.11.3"
  }
 },
 "nbformat": 4,
 "nbformat_minor": 2
}
