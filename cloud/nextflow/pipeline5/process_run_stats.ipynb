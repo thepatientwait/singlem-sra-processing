{
 "cells": [
  {
   "cell_type": "code",
   "execution_count": 2,
   "metadata": {},
   "outputs": [],
   "source": [
    "import polars as pl"
   ]
  },
  {
   "cell_type": "code",
   "execution_count": 3,
   "metadata": {},
   "outputs": [
    {
     "data": {
      "text/html": [
       "<div><style>\n",
       ".dataframe > thead > tr > th,\n",
       ".dataframe > tbody > tr > td {\n",
       "  text-align: right;\n",
       "}\n",
       "</style>\n",
       "<small>shape: (4, 5)</small><table border=\"1\" class=\"dataframe\"><thead><tr><th>task_id</th><th>workdir</th><th>attempt</th><th>realtime</th><th>status</th></tr><tr><td>i64</td><td>str</td><td>i64</td><td>str</td><td>str</td></tr></thead><tbody><tr><td>1</td><td>&quot;gs://singlem-s…</td><td>1</td><td>&quot;27m&quot;</td><td>&quot;COMPLETED&quot;</td></tr><tr><td>2</td><td>&quot;gs://singlem-s…</td><td>1</td><td>&quot;3h 34m 37s&quot;</td><td>&quot;COMPLETED&quot;</td></tr><tr><td>3</td><td>&quot;gs://singlem-s…</td><td>1</td><td>&quot;55m 30s&quot;</td><td>&quot;COMPLETED&quot;</td></tr><tr><td>4</td><td>&quot;gs://singlem-s…</td><td>1</td><td>&quot;20m 9s&quot;</td><td>&quot;COMPLETED&quot;</td></tr></tbody></table></div>"
      ],
      "text/plain": [
       "shape: (4, 5)\n",
       "┌─────────┬───────────────────────────────────┬─────────┬────────────┬───────────┐\n",
       "│ task_id ┆ workdir                           ┆ attempt ┆ realtime   ┆ status    │\n",
       "│ ---     ┆ ---                               ┆ ---     ┆ ---        ┆ ---       │\n",
       "│ i64     ┆ str                               ┆ i64     ┆ str        ┆ str       │\n",
       "╞═════════╪═══════════════════════════════════╪═════════╪════════════╪═══════════╡\n",
       "│ 1       ┆ gs://singlem-sra-nextflow/pipeli… ┆ 1       ┆ 27m        ┆ COMPLETED │\n",
       "│ 2       ┆ gs://singlem-sra-nextflow/pipeli… ┆ 1       ┆ 3h 34m 37s ┆ COMPLETED │\n",
       "│ 3       ┆ gs://singlem-sra-nextflow/pipeli… ┆ 1       ┆ 55m 30s    ┆ COMPLETED │\n",
       "│ 4       ┆ gs://singlem-sra-nextflow/pipeli… ┆ 1       ┆ 20m 9s     ┆ COMPLETED │\n",
       "└─────────┴───────────────────────────────────┴─────────┴────────────┴───────────┘"
      ]
     },
     "execution_count": 3,
     "metadata": {},
     "output_type": "execute_result"
    }
   ],
   "source": [
    "# nextflow log thirsty_pasteur -f task_id,workdir,attempt,realtime,status >run_stats/thirsty_pasteur.csv\n",
    "\n",
    "# df = pl.read_csv('run_stats/compassionate_solvay.csv', separator='\\t', has_header=False)\n",
    "df = pl.read_csv('run_stats/thirsty_pasteur.csv', separator='\\t', has_header=False) # 100 runs, t2d\n",
    "\n",
    "df.columns = 'task_id,workdir,attempt,realtime,status'.split(',')\n",
    "df = df.sort('task_id')\n",
    "df[:4]"
   ]
  },
  {
   "cell_type": "code",
   "execution_count": 4,
   "metadata": {},
   "outputs": [
    {
     "data": {
      "text/html": [
       "<div><style>\n",
       ".dataframe > thead > tr > th,\n",
       ".dataframe > tbody > tr > td {\n",
       "  text-align: right;\n",
       "}\n",
       "</style>\n",
       "<small>shape: (4, 6)</small><table border=\"1\" class=\"dataframe\"><thead><tr><th>task_id</th><th>workdir</th><th>attempt</th><th>realtime</th><th>status</th><th>realtime_s</th></tr><tr><td>i64</td><td>str</td><td>i64</td><td>str</td><td>str</td><td>i32</td></tr></thead><tbody><tr><td>1</td><td>&quot;gs://singlem-s…</td><td>1</td><td>&quot;27m&quot;</td><td>&quot;COMPLETED&quot;</td><td>1620</td></tr><tr><td>2</td><td>&quot;gs://singlem-s…</td><td>1</td><td>&quot;3h 34m 37s&quot;</td><td>&quot;COMPLETED&quot;</td><td>null</td></tr><tr><td>3</td><td>&quot;gs://singlem-s…</td><td>1</td><td>&quot;55m 30s&quot;</td><td>&quot;COMPLETED&quot;</td><td>null</td></tr><tr><td>4</td><td>&quot;gs://singlem-s…</td><td>1</td><td>&quot;20m 9s&quot;</td><td>&quot;COMPLETED&quot;</td><td>null</td></tr></tbody></table></div>"
      ],
      "text/plain": [
       "shape: (4, 6)\n",
       "┌─────────┬───────────────────────────────────┬─────────┬────────────┬───────────┬────────────┐\n",
       "│ task_id ┆ workdir                           ┆ attempt ┆ realtime   ┆ status    ┆ realtime_s │\n",
       "│ ---     ┆ ---                               ┆ ---     ┆ ---        ┆ ---       ┆ ---        │\n",
       "│ i64     ┆ str                               ┆ i64     ┆ str        ┆ str       ┆ i32        │\n",
       "╞═════════╪═══════════════════════════════════╪═════════╪════════════╪═══════════╪════════════╡\n",
       "│ 1       ┆ gs://singlem-sra-nextflow/pipeli… ┆ 1       ┆ 27m        ┆ COMPLETED ┆ 1620       │\n",
       "│ 2       ┆ gs://singlem-sra-nextflow/pipeli… ┆ 1       ┆ 3h 34m 37s ┆ COMPLETED ┆ null       │\n",
       "│ 3       ┆ gs://singlem-sra-nextflow/pipeli… ┆ 1       ┆ 55m 30s    ┆ COMPLETED ┆ null       │\n",
       "│ 4       ┆ gs://singlem-sra-nextflow/pipeli… ┆ 1       ┆ 20m 9s     ┆ COMPLETED ┆ null       │\n",
       "└─────────┴───────────────────────────────────┴─────────┴────────────┴───────────┴────────────┘"
      ]
     },
     "execution_count": 4,
     "metadata": {},
     "output_type": "execute_result"
    }
   ],
   "source": [
    "# regex to convert (which is e.g. 1h 33m 53s) to seconds\n",
    "import re\n",
    "def to_seconds(s):\n",
    "    if matches := re.match(r'(\\d+)h (\\d+)m ([\\d\\.]+)s', s):\n",
    "        (h, m, s) = matches.groups()\n",
    "        return int(h) * 3600 + int(m) * 60 + float(s)\n",
    "    elif matches := re.match(r'(\\d+)m ([\\d\\.]+)s', s):\n",
    "        (m, s) = matches.groups()\n",
    "        return int(m) * 60 + float(s)\n",
    "    elif matches := re.match(r'([\\d\\.]+)s', s):\n",
    "        (s,) = matches.groups()\n",
    "        return float(s)\n",
    "    elif matches := re.match(r'(\\d+)h', s):\n",
    "        (h,) = matches.groups()\n",
    "        return int(h) * 3600\n",
    "    elif matches := re.match(r'(\\d+)m', s):\n",
    "        (m,) = matches.groups()\n",
    "        return int(m) * 60\n",
    "    elif matches := re.match(r'(\\d+)h (\\d+)m', s):\n",
    "        (h, m) = matches.groups()\n",
    "        return int(h) * 3600 + int(m) * 60\n",
    "    elif matches := re.match(r'-', s):\n",
    "        return 0\n",
    "    else:\n",
    "        raise ValueError(f'Could not parse {s}')\n",
    "df = df.with_columns(pl.col('realtime').apply(to_seconds).cast(pl.Int32).alias('realtime_s'))\n",
    "df[:4]"
   ]
  },
  {
   "cell_type": "code",
   "execution_count": 5,
   "metadata": {},
   "outputs": [
    {
     "name": "stdout",
     "output_type": "stream",
     "text": [
      "total cost 1881.4940253833777\n",
      "cost of the test run 0.3420898227969778\n"
     ]
    }
   ],
   "source": [
    "# A rough total cost is $0.010051 per hour for the VM. So take the total time and multiply by that. Plus the disk cost, which is 30GB * $0.04 per month\n",
    "# With t2d-standard-1, spot price is $0.007068\n",
    "spot_cost = 0.007068\n",
    "cost_estimate1 = df['realtime_s'].sum() * (spot_cost / 3600 + 30 * 0.04 / 30 / 24 / 3600)\n",
    "cost_estimate1\n",
    "# Then there is ~550,000 runs, but we only processed 100, so multiply by that.\n",
    "cost_estimate2 = cost_estimate1 * 550000 / 100\n",
    "cost_estimate2\n",
    "# But those prices are USD, so converting to AUD\n",
    "cost_estimate3 = cost_estimate2 * 1.495784\n",
    "print('total cost', cost_estimate3)\n",
    "print('cost of the test run', cost_estimate1 *  1.495784)"
   ]
  },
  {
   "cell_type": "code",
   "execution_count": 6,
   "metadata": {},
   "outputs": [
    {
     "data": {
      "text/plain": [
       "5568.617740426561"
      ]
     },
     "execution_count": 6,
     "metadata": {},
     "output_type": "execute_result"
    }
   ],
   "source": [
    "run_ids = pl.read_csv('../100accessions2.txt', has_header=False)\n",
    "run_ids.columns = ['acc']\n",
    "\n",
    "df = pl.read_csv('~/git/sandpiper/sra_metadata/shotgun_sra_20240112.some_columns.csv.gz', has_header=False)\n",
    "df.columns = ['acc','releasedate','mbases','organism','mbytes','avgspotlen']\n",
    "df[:4]\n",
    "\n",
    "m = run_ids.join(df, on='acc', how='inner')\n",
    "total_processed = sum(m['mbases'])\n",
    "\n",
    "total = sum(df['mbases'])\n",
    "total_processed / total * 100\n",
    "\n",
    "observed_cost = 0.89\n",
    "total / total_processed * observed_cost"
   ]
  }
 ],
 "metadata": {
  "kernelspec": {
   "display_name": "mybase",
   "language": "python",
   "name": "python3"
  },
  "language_info": {
   "codemirror_mode": {
    "name": "ipython",
    "version": 3
   },
   "file_extension": ".py",
   "mimetype": "text/x-python",
   "name": "python",
   "nbconvert_exporter": "python",
   "pygments_lexer": "ipython3",
   "version": "3.11.3"
  }
 },
 "nbformat": 4,
 "nbformat_minor": 2
}
