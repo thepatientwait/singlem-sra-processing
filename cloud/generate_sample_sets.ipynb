{
 "cells": [
  {
   "cell_type": "code",
   "execution_count": 14,
   "metadata": {},
   "outputs": [],
   "source": [
    "import polars as pl"
   ]
  },
  {
   "cell_type": "code",
   "execution_count": 15,
   "metadata": {},
   "outputs": [
    {
     "data": {
      "text/html": [
       "<div><style>\n",
       ".dataframe > thead > tr > th,\n",
       ".dataframe > tbody > tr > td {\n",
       "  text-align: right;\n",
       "}\n",
       "</style>\n",
       "<small>shape: (4, 6)</small><table border=\"1\" class=\"dataframe\"><thead><tr><th>acc</th><th>releasedate</th><th>mbases</th><th>organism</th><th>mbytes</th><th>avgspotlen</th></tr><tr><td>str</td><td>str</td><td>i64</td><td>str</td><td>i64</td><td>i64</td></tr></thead><tbody><tr><td>&quot;SRR10765501&quot;</td><td>&quot;2020-06-30T00:…</td><td>7339</td><td>&quot;bovine gut met…</td><td>2153</td><td>302</td></tr><tr><td>&quot;SRR10667240&quot;</td><td>&quot;2020-06-15T00:…</td><td>213</td><td>&quot;human metageno…</td><td>90</td><td>131</td></tr><tr><td>&quot;SRR11485365&quot;</td><td>&quot;2020-04-13T00:…</td><td>11658</td><td>&quot;gut metagenome…</td><td>3897</td><td>299</td></tr><tr><td>&quot;SRR8639429&quot;</td><td>&quot;2020-03-25T00:…</td><td>9295</td><td>&quot;seawater metag…</td><td>2796</td><td>300</td></tr></tbody></table></div>"
      ],
      "text/plain": [
       "shape: (4, 6)\n",
       "┌─────────────┬───────────────────────────┬────────┬───────────────────────┬────────┬────────────┐\n",
       "│ acc         ┆ releasedate               ┆ mbases ┆ organism              ┆ mbytes ┆ avgspotlen │\n",
       "│ ---         ┆ ---                       ┆ ---    ┆ ---                   ┆ ---    ┆ ---        │\n",
       "│ str         ┆ str                       ┆ i64    ┆ str                   ┆ i64    ┆ i64        │\n",
       "╞═════════════╪═══════════════════════════╪════════╪═══════════════════════╪════════╪════════════╡\n",
       "│ SRR10765501 ┆ 2020-06-30T00:00:00+00:00 ┆ 7339   ┆ bovine gut metagenome ┆ 2153   ┆ 302        │\n",
       "│ SRR10667240 ┆ 2020-06-15T00:00:00+00:00 ┆ 213    ┆ human metagenome      ┆ 90     ┆ 131        │\n",
       "│ SRR11485365 ┆ 2020-04-13T00:00:00+00:00 ┆ 11658  ┆ gut metagenome        ┆ 3897   ┆ 299        │\n",
       "│ SRR8639429  ┆ 2020-03-25T00:00:00+00:00 ┆ 9295   ┆ seawater metagenome   ┆ 2796   ┆ 300        │\n",
       "└─────────────┴───────────────────────────┴────────┴───────────────────────┴────────┴────────────┘"
      ]
     },
     "execution_count": 15,
     "metadata": {},
     "output_type": "execute_result"
    }
   ],
   "source": [
    "# sandpiper/growth_over_time.ipynb\n",
    "df = pl.read_csv('~/git/sandpiper/sra_metadata/shotgun_sra_20240112.some_columns.csv.gz', has_header=False)\n",
    "df.columns = ['acc','releasedate','mbases','organism','mbytes','avgspotlen']\n",
    "df[:4]"
   ]
  },
  {
   "cell_type": "code",
   "execution_count": 16,
   "metadata": {},
   "outputs": [
    {
     "name": "stdout",
     "output_type": "stream",
     "text": [
      "shape: (1, 6)\n",
      "┌─────────────┬───────────────────────────┬────────┬──────────────────┬────────┬────────────┐\n",
      "│ acc         ┆ releasedate               ┆ mbases ┆ organism         ┆ mbytes ┆ avgspotlen │\n",
      "│ ---         ┆ ---                       ┆ ---    ┆ ---              ┆ ---    ┆ ---        │\n",
      "│ str         ┆ str                       ┆ i64    ┆ str              ┆ i64    ┆ i64        │\n",
      "╞═════════════╪═══════════════════════════╪════════╪══════════════════╪════════╪════════════╡\n",
      "│ SRR25241884 ┆ 2023-07-12T00:00:00+00:00 ┆ 1552   ┆ human metagenome ┆ 1332   ┆ 50         │\n",
      "└─────────────┴───────────────────────────┴────────┴──────────────────┴────────┴────────────┘\n",
      "Removed 9897 samples with avg spot length < 75, out of 547644 total, or 1.8%\n"
     ]
    }
   ],
   "source": [
    "# Remove those with avg spot length < 75 - these aren't suitable for the default singlem\n",
    "print(df.filter(pl.col('acc')=='SRR25241884'))\n",
    "total1 = len(df)\n",
    "df = df.filter(pl.col('avgspotlen') >= 75)\n",
    "num_too_short = total1 - len(df)\n",
    "print(f\"Removed {num_too_short} samples with avg spot length < 75, out of {total1} total, or {(num_too_short)/total1:.1%}\")"
   ]
  },
  {
   "cell_type": "code",
   "execution_count": 17,
   "metadata": {},
   "outputs": [],
   "source": [
    "# selected = pl.concat([\n",
    "#     df.filter(pl.col('mbytes') < 1000).sample(2),\n",
    "#     df.filter(pl.col('mbytes') > 1000).filter(pl.col('mbytes') < 4000).sample(2),\n",
    "#     df.filter(pl.col('mbytes') > 4000).filter(pl.col('mbytes') < 6000).sample(2),\n",
    "#     df.filter(pl.col('mbytes') > 6000).filter(pl.col('mbytes') < 10000).sample(2),\n",
    "#     df.filter(pl.col('mbytes') > 10000).filter(pl.col('mbytes') < 20000).sample(1),\n",
    "#     ])\n",
    "# with open('/home/ben/git/singlem-sra-processing/cloud/nextflow/10accessions.txt','w') as f:\n",
    "#     f.write('\\n'.join(list(selected['acc'])))"
   ]
  },
  {
   "cell_type": "code",
   "execution_count": 18,
   "metadata": {},
   "outputs": [],
   "source": [
    "# Choose another random sample, this time of 100 metagenomes. Add ERR599174 in since it failed last time. \n",
    "# selected = df.sample(100)\n",
    "# with open('/home/ben/git/singlem-sra-processing/cloud/nextflow/101accessions.txt','w') as f:\n",
    "#     f.write('\\n'.join(set(['ERR599174']+list(selected['acc']))))"
   ]
  },
  {
   "cell_type": "code",
   "execution_count": 19,
   "metadata": {},
   "outputs": [],
   "source": [
    "# Choose another random sample, this time of 100 metagenomes. \n",
    "selected = df.sample(100)\n",
    "with open('/home/ben/git/singlem-sra-processing/cloud/nextflow/100accessions2.txt','w') as f:\n",
    "    f.write('\\n'.join(set(list(selected['acc']))))"
   ]
  }
 ],
 "metadata": {
  "kernelspec": {
   "display_name": "mybase",
   "language": "python",
   "name": "python3"
  },
  "language_info": {
   "codemirror_mode": {
    "name": "ipython",
    "version": 3
   },
   "file_extension": ".py",
   "mimetype": "text/x-python",
   "name": "python",
   "nbconvert_exporter": "python",
   "pygments_lexer": "ipython3",
   "version": "3.11.3"
  }
 },
 "nbformat": 4,
 "nbformat_minor": 2
}
